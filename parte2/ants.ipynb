{
 "cells": [
  {
   "cell_type": "code",
   "execution_count": 1,
   "metadata": {
    "id": "1e5bvqIKP1Oe"
   },
   "outputs": [],
   "source": [
    "import geopandas as gpd\n",
    "import matplotlib.pyplot as plt\n",
    "from shapely.geometry import Point, LineString\n",
    "import imageio\n",
    "import os\n",
    "import random\n",
    "import numpy as np"
   ]
  },
  {
   "cell_type": "code",
   "execution_count": 2,
   "metadata": {
    "id": "0YuT0-eDP8ue"
   },
   "outputs": [],
   "source": [
    "# Cargar el mapa de México (archivo GeoJSON o Shapefile)\n",
    "mapa_mexico = gpd.read_file(\"mexican-states.shp\")"
   ]
  },
  {
   "cell_type": "code",
   "execution_count": 3,
   "metadata": {
    "id": "AAnf0dIUP9yQ"
   },
   "outputs": [],
   "source": [
    "# Coordenadas de las ciudades\n",
    "cities = {\n",
    "    \"Aguascalientes\": (21.8853, -102.2916),\n",
    "    \"Mexicali\": (32.6245, -115.4523),\n",
    "    \"La Paz\": (24.1426, -110.3128),\n",
    "    \"San Francisco de Campeche\": (19.8450, -90.5230),\n",
    "    \"Tuxtla Gutiérrez\": (16.7528, -93.1156),\n",
    "    \"Chihuahua\": (28.6353, -106.0889),\n",
    "    \"Ciudad de México\": (19.4326, -99.1332),\n",
    "    \"Saltillo\": (25.4232, -101.0053),\n",
    "    \"Colima\": (19.2433, -103.7250),\n",
    "    \"Victoria de Durango\": (24.0277, -104.6532),\n",
    "    \"Toluca\": (19.2826, -99.6557),\n",
    "    \"Guanajuato\": (21.0190, -101.2574),\n",
    "    \"Chilpancingo\": (17.5514, -99.5006),\n",
    "    \"Pachuca\": (20.1011, -98.7591),\n",
    "    \"Guadalajara\": (20.6597, -103.3496),\n",
    "    \"Morelia\": (19.7008, -101.1844),\n",
    "    \"Cuernavaca\": (18.9261, -99.2308),\n",
    "    \"Tepic\": (21.5067, -104.8940),\n",
    "    \"Monterrey\": (25.6866, -100.3161),\n",
    "    \"Oaxaca de Juárez\": (17.0732, -96.7266),\n",
    "    \"Puebla\": (19.0414, -98.2063),\n",
    "    \"Santiago de Querétaro\": (20.5888, -100.3899),\n",
    "    \"Chetumal\": (18.5001, -88.2961),\n",
    "    \"San Luis Potosí\": (22.1565, -100.9855),\n",
    "    \"Culiacán\": (24.8091, -107.3940),\n",
    "    \"Hermosillo\": (29.0729, -110.9559),\n",
    "    \"Villahermosa\": (17.9895, -92.9475),\n",
    "    \"Ciudad Victoria\": (23.7369, -99.1411),\n",
    "    \"Tlaxcala de Xicohténcatl\": (19.3139, -98.2400),\n",
    "    \"Xalapa\": (19.5423, -96.9100),\n",
    "    \"Mérida\": (20.9674, -89.5926),\n",
    "    \"Zacatecas\": (22.7709, -102.5833),\n",
    "}"
   ]
  },
  {
   "cell_type": "code",
   "execution_count": 4,
   "metadata": {
    "id": "KuSnIFxnP9v6"
   },
   "outputs": [],
   "source": [
    "# Parámetros del costo\n",
    "seller_hour_cost = 200  # MXN por hora\n",
    "fuel_price_per_liter = 24.0  # MXN por litro\n",
    "car_efficiency_km_per_l = 15  # km por litro\n",
    "speed_kmh = 80  # Velocidad promedio del vendedor\n",
    "toll_rate_per_km = 0.5  # Tarifa de peaje por km (MXN)"
   ]
  },
  {
   "cell_type": "code",
   "execution_count": 5,
   "metadata": {
    "id": "YFDF_xxRP9tW"
   },
   "outputs": [],
   "source": [
    "# Crear matriz de costos basada en distancia, tiempo, peajes y combustible\n",
    "num_cities = len(cities)\n",
    "city_names = list(cities.keys())\n",
    "cost_matrix = np.zeros((num_cities, num_cities))"
   ]
  },
  {
   "cell_type": "code",
   "execution_count": 6,
   "metadata": {
    "id": "DBGjj96KP9q5"
   },
   "outputs": [],
   "source": [
    "# Crear una carpeta para almacenar los frames del GIF\n",
    "frames_folder = \"aco_frames_geo\"\n",
    "os.makedirs(frames_folder, exist_ok=True)"
   ]
  },
  {
   "cell_type": "code",
   "execution_count": 7,
   "metadata": {
    "id": "1r5A2tPLP9oe"
   },
   "outputs": [],
   "source": [
    "# Convertir las coordenadas de las ciudades a un GeoDataFrame\n",
    "city_points = gpd.GeoDataFrame({\n",
    "    \"City\": list(cities.keys()),\n",
    "    \"geometry\": [Point(lon, lat) for lat, lon in cities.values()]\n",
    "}, crs=\"EPSG:4326\")\n"
   ]
  },
  {
   "cell_type": "code",
   "execution_count": 8,
   "metadata": {
    "id": "AeCGV37XP9mD"
   },
   "outputs": [],
   "source": [
    "def calculate_distance(coord1, coord2):\n",
    "    from math import radians, sin, cos, sqrt, atan2\n",
    "    R = 6371  # Radio de la Tierra en km\n",
    "    lat1, lon1 = radians(coord1[0]), radians(coord1[1])\n",
    "    lat2, lon2 = radians(coord2[0]), radians(coord2[1])\n",
    "    dlat = lat2 - lat1\n",
    "    dlon = lon2 - lon1\n",
    "    a = sin(dlat / 2)**2 + cos(lat1) * cos(lat2) * sin(dlon / 2)**2\n",
    "    c = 2 * atan2(sqrt(a), sqrt(1 - a))\n",
    "    return R * c  # Distancia en km\n"
   ]
  },
  {
   "cell_type": "code",
   "execution_count": 9,
   "metadata": {
    "id": "9aTlpbjDP9jd"
   },
   "outputs": [],
   "source": [
    "for i in range(num_cities):\n",
    "    for j in range(num_cities):\n",
    "        if i != j:\n",
    "            distance = calculate_distance(cities[city_names[i]], cities[city_names[j]])\n",
    "            travel_time = distance / speed_kmh\n",
    "            cost_time = travel_time * seller_hour_cost\n",
    "            cost_fuel = (distance / car_efficiency_km_per_l) * fuel_price_per_liter\n",
    "            cost_toll = distance * toll_rate_per_km\n",
    "            cost_matrix[i, j] = cost_time + cost_fuel + cost_toll"
   ]
  },
  {
   "cell_type": "code",
   "execution_count": 10,
   "metadata": {
    "id": "_Aa81G4DP9g0"
   },
   "outputs": [],
   "source": [
    "# Crear una clase de colonia de hormigas para generar frames\n",
    "class AntColony:\n",
    "    def __init__(self, cost_matrix, num_ants, evaporation_rate, alpha=1, beta=2):\n",
    "        self.cost_matrix = cost_matrix\n",
    "        self.num_ants = num_ants\n",
    "        self.evaporation_rate = evaporation_rate\n",
    "        self.alpha = alpha\n",
    "        self.beta = beta\n",
    "        self.num_cities = cost_matrix.shape[0]\n",
    "        self.pheromone_matrix = np.ones((self.num_cities, self.num_cities))\n",
    "\n",
    "    def run_with_frames(self, num_iterations):\n",
    "        best_cost = float('inf')\n",
    "        best_route = None\n",
    "\n",
    "        for iteration in range(num_iterations):\n",
    "            all_routes = []\n",
    "            all_costs = []\n",
    "\n",
    "            for ant in range(self.num_ants):\n",
    "                route = [random.randint(0, self.num_cities - 1)]\n",
    "                for _ in range(self.num_cities - 1):\n",
    "                    current_city = route[-1]\n",
    "                    probabilities = self._calculate_probabilities(current_city, route)\n",
    "                    next_city = np.random.choice(range(self.num_cities), p=probabilities)\n",
    "                    route.append(next_city)\n",
    "\n",
    "                route_cost = self._calculate_route_cost(route)\n",
    "                all_routes.append(route)\n",
    "                all_costs.append(route_cost)\n",
    "\n",
    "                if route_cost < best_cost:\n",
    "                    best_cost = route_cost\n",
    "                    best_route = route\n",
    "\n",
    "            self._update_pheromones(all_routes, all_costs)\n",
    "            self._save_frame(best_route, iteration, best_cost)\n",
    "\n",
    "        return best_route, best_cost\n",
    "\n",
    "    def _calculate_probabilities(self, current_city, visited):\n",
    "        pheromone = self.pheromone_matrix[current_city]\n",
    "        heuristic = 1 / (self.cost_matrix[current_city] + 1e-10)\n",
    "        probabilities = (pheromone ** self.alpha) * (heuristic ** self.beta)\n",
    "        probabilities[list(visited)] = 0\n",
    "        probabilities /= probabilities.sum()\n",
    "        return probabilities\n",
    "\n",
    "    def _calculate_route_cost(self, route):\n",
    "        total_cost = sum(self.cost_matrix[route[i], route[i + 1]] for i in range(len(route) - 1))\n",
    "        total_cost += self.cost_matrix[route[-1], route[0]]\n",
    "        return total_cost\n",
    "\n",
    "    def _update_pheromones(self, routes, costs):\n",
    "        self.pheromone_matrix *= (1 - self.evaporation_rate)\n",
    "        for route, cost in zip(routes, costs):\n",
    "            for i in range(len(route) - 1):\n",
    "                self.pheromone_matrix[route[i], route[i + 1]] += 1 / cost\n",
    "            self.pheromone_matrix[route[-1], route[0]] += 1 / cost\n",
    "\n",
    "    def _save_frame(self, route, iteration, cost):\n",
    "        route_coords = [Point(cities[city_names[i]][1], cities[city_names[i]][0]) for i in route]\n",
    "        route_line = gpd.GeoDataFrame({\n",
    "            \"geometry\": [LineString(route_coords)]\n",
    "        }, crs=\"EPSG:4326\")\n",
    "\n",
    "        fig, ax = plt.subplots(figsize=(12, 8))\n",
    "        mapa_mexico.plot(ax=ax, color=\"lightgrey\", edgecolor=\"black\")\n",
    "        city_points.plot(ax=ax, color=\"red\", markersize=50)\n",
    "        route_line.plot(ax=ax, color=\"blue\", linewidth=2)\n",
    "\n",
    "        for x, y, label in zip(city_points.geometry.x, city_points.geometry.y, city_points[\"City\"]):\n",
    "            ax.text(x, y, label, fontsize=8, ha=\"right\", color=\"blue\")\n",
    "\n",
    "        plt.title(f\"Iteración {iteration + 1} - Costo: {cost:.2f}\")\n",
    "        frame_path = os.path.join(frames_folder, f\"frame_{iteration + 1}.png\")\n",
    "        plt.savefig(frame_path)\n",
    "        plt.close()"
   ]
  },
  {
   "cell_type": "code",
   "execution_count": 11,
   "metadata": {
    "id": "AOoFu3hDP9eF"
   },
   "outputs": [],
   "source": [
    "# Ejecutar el algoritmo con generación de frames\n",
    "aco = AntColony(cost_matrix, num_ants=50, evaporation_rate=0.5, alpha=1, beta=2)\n",
    "best_route, best_cost = aco.run_with_frames(num_iterations=50)"
   ]
  },
  {
   "cell_type": "code",
   "execution_count": 12,
   "metadata": {
    "id": "JMlIIoDHP9ZV"
   },
   "outputs": [
    {
     "name": "stderr",
     "output_type": "stream",
     "text": [
      "C:\\Users\\russb\\AppData\\Local\\Temp\\ipykernel_17188\\1976265677.py:7: DeprecationWarning: Starting with ImageIO v3 the behavior of this function will switch to that of iio.v3.imread. To keep the current behavior (and make this warning disappear) use `import imageio.v2 as imageio` or call `imageio.v2.imread` directly.\n",
      "  image = imageio.imread(frame_path)\n"
     ]
    }
   ],
   "source": [
    "# Crear el GIF animado\n",
    "gif_path = \"aco_route_evolution_geo.gif\"\n",
    "with imageio.get_writer(gif_path, mode=\"I\", duration=1) as writer:\n",
    "    for frame in sorted(os.listdir(frames_folder)):\n",
    "        if frame.endswith(\".png\"):\n",
    "            frame_path = os.path.join(frames_folder, frame)\n",
    "            image = imageio.imread(frame_path)\n",
    "            writer.append_data(image)"
   ]
  },
  {
   "cell_type": "code",
   "execution_count": 13,
   "metadata": {
    "id": "imzoo7dGP9UE"
   },
   "outputs": [
    {
     "name": "stdout",
     "output_type": "stream",
     "text": [
      "GIF animado guardado en: aco_route_evolution_geo.gif\n",
      "Mejor Ruta: [22, 26, 4, 19, 12, 16, 6, 10, 21, 15, 11, 23, 0, 31, 14, 8, 17, 9, 24, 2, 25, 1, 5, 18, 7, 27, 13, 28, 20, 29, 30, 3]\n",
      "Costo Total de la Mejor Ruta: 41402.67 MXN\n"
     ]
    }
   ],
   "source": [
    "print(f\"GIF animado guardado en: {gif_path}\")\n",
    "\n",
    "# Mostrar la mejor ruta y su costo\n",
    "print(f\"Mejor Ruta: {best_route}\")\n",
    "print(f\"Costo Total de la Mejor Ruta: {best_cost:.2f} MXN\")"
   ]
  }
 ],
 "metadata": {
  "colab": {
   "provenance": []
  },
  "kernelspec": {
   "display_name": "Python 3",
   "name": "python3"
  },
  "language_info": {
   "codemirror_mode": {
    "name": "ipython",
    "version": 3
   },
   "file_extension": ".py",
   "mimetype": "text/x-python",
   "name": "python",
   "nbconvert_exporter": "python",
   "pygments_lexer": "ipython3",
   "version": "3.12.0"
  }
 },
 "nbformat": 4,
 "nbformat_minor": 0
}
